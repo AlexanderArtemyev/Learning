{
 "cells": [
  {
   "cell_type": "markdown",
   "metadata": {},
   "source": [
    "<center>\n",
    "<img src=\"img/ml_theme.png\">\n",
    "# Вводный курс по нейронным сетям\n",
    "<center>\n",
    "**Автор материала: программист-исследователь Mail.Ru Group  Юрий Кашницкий**"
   ]
  },
  {
   "cell_type": "markdown",
   "metadata": {},
   "source": [
    "## <center>Часть 3. Практика\n",
    "### <center>PyTorch. Прямой и обратный проход для линейного классификатора\n",
    "     \n",
    "\n",
    "\n",
    "<img src='img/lin_class_net.png'>\n",
    "Реализуйте на PyTorch прямой и обратный проход для такой простой модели.\n",
    "\n",
    "- $X$ – минибатч из $N$ = 256 векторов, каждый размерности $D$=100, то есть матрица $N \\times D$\n",
    "- $W$ – матрица размеров  $D \\times C$, где $C=5$ – число классов в задаче классификации\n",
    "- модель вычисляет матрицу $A = \\sigma(XW)$, эта матрица сравнивается с ответом $Y$ – матрицей размера $N \\times C$\n",
    "- $X$ инициализируется случайными числами из нормального распределения\n",
    "- $Y$ – бинарная матрица, получается выбором индексов максимальных элементов из матрицы тех же размеров, инициализированной случайными числами  из нормального распределения\n",
    "- функция потерь – квадратичная ($L_2$-расстояние): $L = {||Y - A||}_2$\n",
    "- обучите модель с помощью SGD\n",
    "- поэкспериментируйте с числом эпох и темпом обучения, сделайте вывод"
   ]
  },
  {
   "cell_type": "code",
   "execution_count": 1,
   "metadata": {},
   "outputs": [],
   "source": [
    "import torch\n",
    "import torch.nn.functional as F\n",
    "from tqdm import tqdm_notebook, tnrange          # Loop progress\n",
    "from matplotlib import pyplot as plt\n",
    "from torch.autograd import Variable\n",
    "%matplotlib inline"
   ]
  },
  {
   "cell_type": "code",
   "execution_count": 2,
   "metadata": {},
   "outputs": [
    {
     "name": "stdout",
     "output_type": "stream",
     "text": [
      "0.3.1.post2\n"
     ]
    }
   ],
   "source": [
    "print(torch.__version__) "
   ]
  },
  {
   "cell_type": "code",
   "execution_count": 3,
   "metadata": {},
   "outputs": [],
   "source": [
    "# N - размер батча; D - размерность входа\n",
    "# C - размерность выхода\n",
    "N, D, C = 256, 100, 5\n",
    "\n",
    "# тип тензора PyTorch\n",
    "dtype = torch.FloatTensor\n",
    "\n",
    "# так фиксируется seed в PyTorch\n",
    "torch.manual_seed(17)\n",
    "\n",
    "# инициализируем вход из нормального распределения\n",
    "X = Variable(torch.randn(N, D).type(dtype))                   # Variable - чтобы пользоваться autograd\n",
    "X.requires_grad = True                                        # Дружит с градиентом\n",
    "\n",
    "Y_tmp = Variable(torch.randn(N, C).type(dtype))               # Variable - чтобы пользоваться autograd\n",
    "Y_tmp.requires_grad = True                                    # Дружит с градиентом\n",
    "Y = (Y_tmp == Y_tmp.max(dim=1, keepdim=True)[0]).type(dtype)   \n",
    "\n",
    "# инициализируем веса из нормального распределения\n",
    "# W = Variable(torch.randn(D, C).type(dtype))"
   ]
  },
  {
   "cell_type": "code",
   "execution_count": 4,
   "metadata": {},
   "outputs": [
    {
     "data": {
      "text/plain": [
       "Variable containing:\n",
       "-0.1445 -0.0908 -1.2198  0.8522  0.5892\n",
       "-0.0162  0.4717 -0.2664  2.2186  3.1236\n",
       " 0.4856  0.3968 -1.0444  0.4339 -1.1820\n",
       "                   ⋮                    \n",
       "-1.6746 -1.7730 -0.5125  0.7843  1.8827\n",
       "-0.6879  0.8810 -0.9760  0.6982  0.4824\n",
       "-0.0912 -1.1918  0.4430  0.3936  0.2401\n",
       "[torch.FloatTensor of size 256x5]"
      ]
     },
     "execution_count": 4,
     "metadata": {},
     "output_type": "execute_result"
    }
   ],
   "source": [
    "Y_tmp"
   ]
  },
  {
   "cell_type": "code",
   "execution_count": 5,
   "metadata": {},
   "outputs": [
    {
     "data": {
      "text/plain": [
       "Variable containing:\n",
       "    0     0     0     1     0\n",
       "    0     0     0     0     1\n",
       "    1     0     0     0     0\n",
       "              ⋮               \n",
       "    0     0     0     0     1\n",
       "    0     1     0     0     0\n",
       "    0     0     1     0     0\n",
       "[torch.ByteTensor of size 256x5]"
      ]
     },
     "execution_count": 5,
     "metadata": {},
     "output_type": "execute_result"
    }
   ],
   "source": [
    "Y_tmp == Y_tmp.max(dim=1, keepdim=True)[0]                   # [0] -- для arg_max"
   ]
  },
  {
   "cell_type": "code",
   "execution_count": 6,
   "metadata": {},
   "outputs": [
    {
     "data": {
      "text/plain": [
       "(torch.Size([256, 100]), torch.Size([256, 5]))"
      ]
     },
     "execution_count": 6,
     "metadata": {},
     "output_type": "execute_result"
    }
   ],
   "source": [
    "X.shape, Y.shape"
   ]
  },
  {
   "cell_type": "markdown",
   "metadata": {},
   "source": [
    "Пояснение к тому, как мы построили $Y$."
   ]
  },
  {
   "cell_type": "code",
   "execution_count": 7,
   "metadata": {},
   "outputs": [
    {
     "data": {
      "text/plain": [
       "Variable containing:\n",
       "-0.1445 -0.0908 -1.2198  0.8522  0.5892\n",
       "-0.0162  0.4717 -0.2664  2.2186  3.1236\n",
       " 0.4856  0.3968 -1.0444  0.4339 -1.1820\n",
       "[torch.FloatTensor of size 3x5]"
      ]
     },
     "execution_count": 7,
     "metadata": {},
     "output_type": "execute_result"
    }
   ],
   "source": [
    "Y_tmp[:3, :]"
   ]
  },
  {
   "cell_type": "code",
   "execution_count": 8,
   "metadata": {},
   "outputs": [
    {
     "data": {
      "text/plain": [
       "Variable containing:\n",
       " 0  0  0  1  0\n",
       " 0  0  0  0  1\n",
       " 1  0  0  0  0\n",
       "[torch.FloatTensor of size 3x5]"
      ]
     },
     "execution_count": 8,
     "metadata": {},
     "output_type": "execute_result"
    }
   ],
   "source": [
    "Y[:3, :]"
   ]
  },
  {
   "cell_type": "code",
   "execution_count": 9,
   "metadata": {},
   "outputs": [],
   "source": [
    "# будем запоминать значения функции потерь по 1000 эпохам\n",
    "loss_by_iter = []\n",
    "num_epochs = 1000\n",
    "learning_rate = 1e-2"
   ]
  },
  {
   "cell_type": "markdown",
   "metadata": {},
   "source": [
    "Создайте класс `LinearClassifier` – наследник `torch.nn.Module`, реализующий описанную архитектуру. У класса должнен быть конструктор и метод `forward`."
   ]
  },
  {
   "cell_type": "code",
   "execution_count": 10,
   "metadata": {},
   "outputs": [],
   "source": [
    "class LinearClassifier(torch.nn.Module):\n",
    "    \n",
    "    def __init__(self, D_in, D_out):\n",
    "        # Ваш код здесь\n",
    "        super(LinearClassifier, self).__init__()\n",
    "        self.W = Variable(torch.randn(D_in, D_out).type(dtype))\n",
    "        self.W.requires_grad = True  \n",
    "        \n",
    "    def forward(self, inp):\n",
    "        # pass\n",
    "        # Ваш код здесь\n",
    "        # print ('forward pass, shapes:', inp.shape, self.W.shape)\n",
    "        result = inp @ self.W\n",
    "        return(result)\n",
    "    \n",
    "    def named_parameters(self, memo=None, prefix=''):          # Чтобы можно было использовать\n",
    "        if memo is None:                                       # в оптимизаторe torch: Adam, ...\n",
    "            memo = set()                     \n",
    "        memo.add(self.W)\n",
    "        yield prefix + ('.' if prefix else '') + 'W', self.W\n",
    "        for mname, module in self.named_children():\n",
    "            submodule_prefix = prefix + ('.' if prefix else '') + mname\n",
    "            for name, p in module.named_parameters(memo, submodule_prefix):\n",
    "                yield name, p\n",
    "                \n",
    "                \n",
    "    # def named_parameters(self):\n",
    "    #     return [['W', self.W]]\n",
    "    #def parameters(self):\n",
    "    #    return [self.W]"
   ]
  },
  {
   "cell_type": "markdown",
   "metadata": {},
   "source": [
    "### Вопрос\n",
    "Чтобы использвовать LinearClassifier с оптимизатором torch (Adam) понадобилось написать ещё один метод класса LinearClassifier: named_parameters.  Можно ли было обойтись без него?\n",
    "\n",
    "\n",
    "### Источник знаний про `named_parameters`\n",
    "\n",
    "https://pytorch.org/docs/stable/nn.html\n",
    "\n",
    "Named parameters:\n",
    "* https://pytorch.org/docs/stable/_modules/torch/nn/modules/module.html\n",
    "* https://pytorch.org/docs/stable/_modules/torch/nn/modules/module.html#Module.parameters\n"
   ]
  },
  {
   "cell_type": "markdown",
   "metadata": {},
   "source": [
    "Создайте `model` – экземпляр класса `LinearClassifier`."
   ]
  },
  {
   "cell_type": "code",
   "execution_count": 11,
   "metadata": {
    "scrolled": true
   },
   "outputs": [],
   "source": [
    "model = LinearClassifier(D, C)\n",
    "opt = torch.optim.Adam(model.parameters(), lr=learning_rate)\n",
    "loss_by_iter=[]"
   ]
  },
  {
   "cell_type": "code",
   "execution_count": 12,
   "metadata": {},
   "outputs": [
    {
     "data": {
      "application/vnd.jupyter.widget-view+json": {
       "model_id": "ba8e92105d874335a178ca78ad14e26f",
       "version_major": 2,
       "version_minor": 0
      },
      "text/html": [
       "<p>Failed to display Jupyter Widget of type <code>HBox</code>.</p>\n",
       "<p>\n",
       "  If you're reading this message in the Jupyter Notebook or JupyterLab Notebook, it may mean\n",
       "  that the widgets JavaScript is still loading. If this message persists, it\n",
       "  likely means that the widgets JavaScript library is either not installed or\n",
       "  not enabled. See the <a href=\"https://ipywidgets.readthedocs.io/en/stable/user_install.html\">Jupyter\n",
       "  Widgets Documentation</a> for setup instructions.\n",
       "</p>\n",
       "<p>\n",
       "  If you're reading this message in another frontend (for example, a static\n",
       "  rendering on GitHub or <a href=\"https://nbviewer.jupyter.org/\">NBViewer</a>),\n",
       "  it may mean that your frontend doesn't currently support widgets.\n",
       "</p>\n"
      ],
      "text/plain": [
       "HBox(children=(IntProgress(value=0, max=1000), HTML(value='')))"
      ]
     },
     "metadata": {},
     "output_type": "display_data"
    },
    {
     "name": "stdout",
     "output_type": "stream",
     "text": [
      "\n"
     ]
    }
   ],
   "source": [
    "for epoch in tqdm_notebook(range(num_epochs)):\n",
    "    \n",
    "    # Ваш код здесь\n",
    "    # print(epoch)\n",
    "    # Сделайте прямой проход\n",
    "    Y_pred = model(X)\n",
    "    \n",
    "    # Посчитайте функцию потерь\n",
    "    loss = F.mse_loss(Y_pred, Y)\n",
    "    \n",
    "    # Добавьте значение функции потерь в список\n",
    "    loss_by_iter.append( float(loss.data))\n",
    "    \n",
    "    # Сделайте обратный проход\n",
    "    loss.backward(retain_graph=True)\n",
    "    \n",
    "    # Обновите веса модели\n",
    "    opt.step()\n",
    "    \n",
    "    # Вручную занулите градиенты после обновления весов\n",
    "    opt.zero_grad()\n",
    "    "
   ]
  },
  {
   "cell_type": "markdown",
   "metadata": {},
   "source": [
    "Постройте график обучения – функцию потерь в зависимости от номера эпохи."
   ]
  },
  {
   "cell_type": "code",
   "execution_count": 13,
   "metadata": {},
   "outputs": [
    {
     "name": "stdout",
     "output_type": "stream",
     "text": [
      "final mse loss is 0.1205\n"
     ]
    },
    {
     "data": {
      "image/png": "[encoded data removed]",
      "text/plain": [
       "<matplotlib.figure.Figure at 0x7f6aeac5ed68>"
      ]
     },
     "metadata": {},
     "output_type": "display_data"
    }
   ],
   "source": [
    "plt.plot(range(num_epochs), loss_by_iter);\n",
    "plt.xlabel('iter')\n",
    "plt.ylabel('loss')\n",
    "plt.ylim((0, 1))\n",
    "print(f'final mse loss is {loss_by_iter[-1]:.4}')     # Python 3.6: formatted strings"
   ]
  },
  {
   "cell_type": "code",
   "execution_count": 14,
   "metadata": {},
   "outputs": [
    {
     "data": {
      "text/plain": [
       "0.16048000000000004"
      ]
     },
     "execution_count": 14,
     "metadata": {},
     "output_type": "execute_result"
    }
   ],
   "source": [
    "# Предсказание вероятностей всех классов: p = 1 / C\n",
    "import numpy as np\n",
    "((np.random.binomial(1, p=1/C, size=10000) - 1 / C) ** 2).mean()"
   ]
  },
  {
   "cell_type": "markdown",
   "metadata": {},
   "source": [
    "Переобучиться под такой набор данных с помощью линейного классификатора не получается. Модифицируйте архитектуру так, чтобы она была достаточно сложной, чтобы могла переобучиться под имеющийся набор данных – добавьте еще один скрытый слой с нелинейностью, назовем класс бесхитростно – `NonLinearClassifier`. Поэкспериментируйте с темпом обучения так, чтобы ошибка стала почти нулевой."
   ]
  },
  {
   "cell_type": "markdown",
   "metadata": {},
   "source": [
    "## Способ 1: создаём сеть с помощью функции"
   ]
  },
  {
   "cell_type": "code",
   "execution_count": 15,
   "metadata": {},
   "outputs": [],
   "source": [
    "def get_my_convnet(H=100):\n",
    "    convnet = torch.nn.Sequential(LinearClassifier(D, H),\n",
    "                                  torch.nn.ReLU(),\n",
    "                                  LinearClassifier(H, C),\n",
    "                                  # torch.nn.Softmax()\n",
    "                                  )\n",
    "    return convnet"
   ]
  },
  {
   "cell_type": "code",
   "execution_count": 16,
   "metadata": {
    "scrolled": true
   },
   "outputs": [
    {
     "data": {
      "application/vnd.jupyter.widget-view+json": {
       "model_id": "6402b35ee6b941fa8db8440dc38d70f2",
       "version_major": 2,
       "version_minor": 0
      },
      "text/html": [
       "<p>Failed to display Jupyter Widget of type <code>HBox</code>.</p>\n",
       "<p>\n",
       "  If you're reading this message in the Jupyter Notebook or JupyterLab Notebook, it may mean\n",
       "  that the widgets JavaScript is still loading. If this message persists, it\n",
       "  likely means that the widgets JavaScript library is either not installed or\n",
       "  not enabled. See the <a href=\"https://ipywidgets.readthedocs.io/en/stable/user_install.html\">Jupyter\n",
       "  Widgets Documentation</a> for setup instructions.\n",
       "</p>\n",
       "<p>\n",
       "  If you're reading this message in another frontend (for example, a static\n",
       "  rendering on GitHub or <a href=\"https://nbviewer.jupyter.org/\">NBViewer</a>),\n",
       "  it may mean that your frontend doesn't currently support widgets.\n",
       "</p>\n"
      ],
      "text/plain": [
       "HBox(children=(IntProgress(value=0, max=1000), HTML(value='')))"
      ]
     },
     "metadata": {},
     "output_type": "display_data"
    },
    {
     "name": "stdout",
     "output_type": "stream",
     "text": [
      "\n"
     ]
    }
   ],
   "source": [
    "model = get_my_convnet()\n",
    "opt = torch.optim.Adam(model.parameters(), lr=1e-2)\n",
    "loss_by_iter=[]\n",
    "\n",
    "\n",
    "for epoch in tqdm_notebook(range(num_epochs)):\n",
    "    # print(epoch)\n",
    "    # Сделайте прямой проход\n",
    "    Y_pred = model(X)\n",
    "    \n",
    "    # Посчитайте функцию потерь\n",
    "    loss = F.mse_loss(Y_pred, Y)\n",
    "    \n",
    "    # Добавьте значение функции потерь в список\n",
    "    loss_by_iter.append( float(loss.data ))\n",
    "    \n",
    "    # Сделайте обратный проход\n",
    "    loss.backward(retain_graph=True)                         # Всегда ли нужно писать retain_graph=True ?\n",
    "    \n",
    "    # Обновите веса модели\n",
    "    opt.step()                                               # С помощью оптимизатора\n",
    "    \n",
    "    # Вручную занулите градиенты после обновления весов\n",
    "    opt.zero_grad()\n",
    "    \n",
    "    # Ваш код здесь                                          # Для рестарта цикла после ошибки c retain_graph=False\n",
    "                                                             # приходится перезапускать ядро."
   ]
  },
  {
   "cell_type": "code",
   "execution_count": 17,
   "metadata": {},
   "outputs": [
    {
     "name": "stdout",
     "output_type": "stream",
     "text": [
      "final mse loss is 3.373e-11\n"
     ]
    },
    {
     "data": {
      "image/png": "[encoded data removed]",
      "text/plain": [
       "<matplotlib.figure.Figure at 0x7f6acdf7c7b8>"
      ]
     },
     "metadata": {},
     "output_type": "display_data"
    }
   ],
   "source": [
    "plt.plot(range(num_epochs), loss_by_iter);\n",
    "plt.xlabel('iter')\n",
    "plt.ylabel('loss')\n",
    "plt.ylim((0, 1))\n",
    "print(f'final mse loss is {loss_by_iter[-1]:.4}')     # Python 3.6: formatted strings"
   ]
  },
  {
   "cell_type": "markdown",
   "metadata": {},
   "source": [
    "## Способ 2: создаём класс"
   ]
  },
  {
   "cell_type": "code",
   "execution_count": 18,
   "metadata": {},
   "outputs": [],
   "source": [
    "class NonLinearClassifier(torch.nn.Module):\n",
    "    \n",
    "    def __init__(self):\n",
    "        super(NonLinearClassifier, self).__init__()\n",
    "        H = 100\n",
    "        self.net = torch.nn.Sequential(LinearClassifier(D, H),\n",
    "                                       torch.nn.ReLU(),\n",
    "                                       LinearClassifier(H, C),\n",
    "                                       # torch.nn.Softmax()\n",
    "                                       )\n",
    "        \n",
    "    def forward(self, inp):\n",
    "        return self.net(inp)\n",
    "    \n",
    "    def parameters(self):\n",
    "        return self.net.parameters()\n",
    "        # Ваш код здесь"
   ]
  },
  {
   "cell_type": "code",
   "execution_count": 19,
   "metadata": {},
   "outputs": [
    {
     "data": {
      "application/vnd.jupyter.widget-view+json": {
       "model_id": "e4985eb9626040799ab8302fc862ce47",
       "version_major": 2,
       "version_minor": 0
      },
      "text/html": [
       "<p>Failed to display Jupyter Widget of type <code>HBox</code>.</p>\n",
       "<p>\n",
       "  If you're reading this message in the Jupyter Notebook or JupyterLab Notebook, it may mean\n",
       "  that the widgets JavaScript is still loading. If this message persists, it\n",
       "  likely means that the widgets JavaScript library is either not installed or\n",
       "  not enabled. See the <a href=\"https://ipywidgets.readthedocs.io/en/stable/user_install.html\">Jupyter\n",
       "  Widgets Documentation</a> for setup instructions.\n",
       "</p>\n",
       "<p>\n",
       "  If you're reading this message in another frontend (for example, a static\n",
       "  rendering on GitHub or <a href=\"https://nbviewer.jupyter.org/\">NBViewer</a>),\n",
       "  it may mean that your frontend doesn't currently support widgets.\n",
       "</p>\n"
      ],
      "text/plain": [
       "HBox(children=(IntProgress(value=0, max=1000), HTML(value='')))"
      ]
     },
     "metadata": {},
     "output_type": "display_data"
    },
    {
     "name": "stdout",
     "output_type": "stream",
     "text": [
      "\n",
      "3.743985330095789e-11\n"
     ]
    }
   ],
   "source": [
    "clf = NonLinearClassifier()\n",
    "opt = torch.optim.Adam(clf.parameters(), lr=learning_rate)\n",
    "loss_by_iter=[]\n",
    "\n",
    "\n",
    "for epoch in tqdm_notebook(range(num_epochs)):\n",
    "    # print(epoch)\n",
    "    # Сделайте прямой проход\n",
    "    Y_pred = clf(X)\n",
    "    \n",
    "    # Посчитайте функцию потерь\n",
    "    loss = F.mse_loss(Y_pred, Y)\n",
    "    \n",
    "    # Добавьте значение функции потерь в список\n",
    "    loss_by_iter.append( float(loss.data ))\n",
    "    \n",
    "    # Сделайте обратный проход\n",
    "    loss.backward(retain_graph=True)\n",
    "    \n",
    "    # Обновите веса модели\n",
    "    opt.step()\n",
    "    \n",
    "    # Вручную занулите градиенты после обновления весов\n",
    "    opt.zero_grad()\n",
    "    \n",
    "    # Ваш код здесь\n",
    "    \n",
    "print(loss_by_iter[-1])"
   ]
  },
  {
   "cell_type": "code",
   "execution_count": 20,
   "metadata": {},
   "outputs": [
    {
     "data": {
      "text/plain": [
       "(0, 1)"
      ]
     },
     "execution_count": 20,
     "metadata": {},
     "output_type": "execute_result"
    },
    {
     "data": {
      "image/png": "[encoded data removed]",
      "text/plain": [
       "<matplotlib.figure.Figure at 0x7f6acc218668>"
      ]
     },
     "metadata": {},
     "output_type": "display_data"
    }
   ],
   "source": [
    "plt.plot(range(num_epochs), loss_by_iter);\n",
    "plt.xlabel('iter')\n",
    "plt.ylabel('loss')\n",
    "plt.ylim((0, 1))"
   ]
  },
  {
   "cell_type": "code",
   "execution_count": null,
   "metadata": {},
   "outputs": [],
   "source": []
  }
 ],
 "metadata": {
  "kernelspec": {
   "display_name": "Python 3",
   "language": "python",
   "name": "python3"
  },
  "language_info": {
   "codemirror_mode": {
    "name": "ipython",
    "version": 3
   },
   "file_extension": ".py",
   "mimetype": "text/x-python",
   "name": "python",
   "nbconvert_exporter": "python",
   "pygments_lexer": "ipython3",
   "version": "3.6.4"
  }
 },
 "nbformat": 4,
 "nbformat_minor": 2
}
